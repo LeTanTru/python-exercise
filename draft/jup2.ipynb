{
 "cells": [
  {
   "cell_type": "code",
   "execution_count": 3,
   "metadata": {},
   "outputs": [
    {
     "ename": "NonSquareMatrixError",
     "evalue": "",
     "output_type": "error",
     "traceback": [
      "\u001b[1;31m---------------------------------------------------------------------------\u001b[0m",
      "\u001b[1;31mNonSquareMatrixError\u001b[0m                      Traceback (most recent call last)",
      "Cell \u001b[1;32mIn[3], line 31\u001b[0m\n\u001b[0;32m     16\u001b[0m A \u001b[38;5;241m=\u001b[39m Matrix(\n\u001b[0;32m     17\u001b[0m     [\n\u001b[0;32m     18\u001b[0m         [x\u001b[38;5;241m*\u001b[39m\u001b[38;5;241m*\u001b[39m\u001b[38;5;241m2\u001b[39m, x \u001b[38;5;241m*\u001b[39m y, y\u001b[38;5;241m*\u001b[39m\u001b[38;5;241m*\u001b[39m\u001b[38;5;241m2\u001b[39m, x, y, \u001b[38;5;241m1\u001b[39m],\n\u001b[1;32m   (...)\u001b[0m\n\u001b[0;32m     27\u001b[0m     ]\n\u001b[0;32m     28\u001b[0m )\n\u001b[0;32m     30\u001b[0m \u001b[38;5;66;03m# Bước 5: Giải phương trình để tìm các hằng số a, b, c, d, e, f\u001b[39;00m\n\u001b[1;32m---> 31\u001b[0m coefficients \u001b[38;5;241m=\u001b[39m solve(\u001b[43mA\u001b[49m\u001b[38;5;241;43m.\u001b[39;49m\u001b[43mdet\u001b[49m\u001b[43m(\u001b[49m\u001b[43m)\u001b[49m, (a, b))\n\u001b[0;32m     33\u001b[0m \u001b[38;5;66;03m# In ra các hằng số của đường tròn\u001b[39;00m\n\u001b[0;32m     34\u001b[0m \u001b[38;5;28mprint\u001b[39m(\u001b[38;5;124m\"\u001b[39m\u001b[38;5;124mCác hằng số của đường tròn:\u001b[39m\u001b[38;5;124m\"\u001b[39m)\n",
      "File \u001b[1;32m~\\AppData\\Roaming\\Python\\Python311\\site-packages\\sympy\\matrices\\matrices.py:128\u001b[0m, in \u001b[0;36mMatrixDeterminant.det\u001b[1;34m(self, method, iszerofunc)\u001b[0m\n\u001b[0;32m    127\u001b[0m \u001b[38;5;28;01mdef\u001b[39;00m \u001b[38;5;21mdet\u001b[39m(\u001b[38;5;28mself\u001b[39m, method\u001b[38;5;241m=\u001b[39m\u001b[38;5;124m\"\u001b[39m\u001b[38;5;124mbareiss\u001b[39m\u001b[38;5;124m\"\u001b[39m, iszerofunc\u001b[38;5;241m=\u001b[39m\u001b[38;5;28;01mNone\u001b[39;00m):\n\u001b[1;32m--> 128\u001b[0m     \u001b[38;5;28;01mreturn\u001b[39;00m \u001b[43m_det\u001b[49m\u001b[43m(\u001b[49m\u001b[38;5;28;43mself\u001b[39;49m\u001b[43m,\u001b[49m\u001b[43m \u001b[49m\u001b[43mmethod\u001b[49m\u001b[38;5;241;43m=\u001b[39;49m\u001b[43mmethod\u001b[49m\u001b[43m,\u001b[49m\u001b[43m \u001b[49m\u001b[43miszerofunc\u001b[49m\u001b[38;5;241;43m=\u001b[39;49m\u001b[43miszerofunc\u001b[49m\u001b[43m)\u001b[49m\n",
      "File \u001b[1;32m~\\AppData\\Roaming\\Python\\Python311\\site-packages\\sympy\\matrices\\determinant.py:662\u001b[0m, in \u001b[0;36m_det\u001b[1;34m(M, method, iszerofunc)\u001b[0m\n\u001b[0;32m    659\u001b[0m         \u001b[38;5;28;01mreturn\u001b[39;00m _get_intermediate_simp(_dotprodsimp)(m)\n\u001b[0;32m    661\u001b[0m dets \u001b[38;5;241m=\u001b[39m []\n\u001b[1;32m--> 662\u001b[0m \u001b[38;5;28;01mfor\u001b[39;00m b \u001b[38;5;129;01min\u001b[39;00m \u001b[43mM\u001b[49m\u001b[38;5;241;43m.\u001b[39;49m\u001b[43mstrongly_connected_components\u001b[49m\u001b[43m(\u001b[49m\u001b[43m)\u001b[49m:\n\u001b[0;32m    663\u001b[0m     \u001b[38;5;28;01mif\u001b[39;00m method \u001b[38;5;241m==\u001b[39m \u001b[38;5;124m\"\u001b[39m\u001b[38;5;124mdomain-ge\u001b[39m\u001b[38;5;124m\"\u001b[39m: \u001b[38;5;66;03m# uses DomainMatrix to evaluate determinant\u001b[39;00m\n\u001b[0;32m    664\u001b[0m         det \u001b[38;5;241m=\u001b[39m _det_DOM(M[b, b])\n",
      "File \u001b[1;32m~\\AppData\\Roaming\\Python\\Python311\\site-packages\\sympy\\matrices\\matrices.py:2187\u001b[0m, in \u001b[0;36mMatrixBase.strongly_connected_components\u001b[1;34m(self)\u001b[0m\n\u001b[0;32m   2186\u001b[0m \u001b[38;5;28;01mdef\u001b[39;00m \u001b[38;5;21mstrongly_connected_components\u001b[39m(\u001b[38;5;28mself\u001b[39m):\n\u001b[1;32m-> 2187\u001b[0m     \u001b[38;5;28;01mreturn\u001b[39;00m \u001b[43m_strongly_connected_components\u001b[49m\u001b[43m(\u001b[49m\u001b[38;5;28;43mself\u001b[39;49m\u001b[43m)\u001b[49m\n",
      "File \u001b[1;32m~\\AppData\\Roaming\\Python\\Python311\\site-packages\\sympy\\matrices\\graph.py:65\u001b[0m, in \u001b[0;36m_strongly_connected_components\u001b[1;34m(M)\u001b[0m\n\u001b[0;32m     44\u001b[0m \u001b[38;5;250m\u001b[39m\u001b[38;5;124;03m\"\"\"Returns the list of strongly connected vertices of the graph when\u001b[39;00m\n\u001b[0;32m     45\u001b[0m \u001b[38;5;124;03ma square matrix is viewed as a weighted graph.\u001b[39;00m\n\u001b[0;32m     46\u001b[0m \n\u001b[1;32m   (...)\u001b[0m\n\u001b[0;32m     62\u001b[0m \u001b[38;5;124;03m[[0, 4, 6], [2, 3, 7], [1, 5, 8]]\u001b[39;00m\n\u001b[0;32m     63\u001b[0m \u001b[38;5;124;03m\"\"\"\u001b[39;00m\n\u001b[0;32m     64\u001b[0m \u001b[38;5;28;01mif\u001b[39;00m \u001b[38;5;129;01mnot\u001b[39;00m M\u001b[38;5;241m.\u001b[39mis_square:\n\u001b[1;32m---> 65\u001b[0m     \u001b[38;5;28;01mraise\u001b[39;00m NonSquareMatrixError\n\u001b[0;32m     67\u001b[0m \u001b[38;5;66;03m# RepMatrix uses the more efficient DomainMatrix.scc() method\u001b[39;00m\n\u001b[0;32m     68\u001b[0m rep \u001b[38;5;241m=\u001b[39m \u001b[38;5;28mgetattr\u001b[39m(M, \u001b[38;5;124m'\u001b[39m\u001b[38;5;124m_rep\u001b[39m\u001b[38;5;124m'\u001b[39m, \u001b[38;5;28;01mNone\u001b[39;00m)\n",
      "\u001b[1;31mNonSquareMatrixError\u001b[0m: "
     ]
    }
   ],
   "source": [
    "from sympy import symbols, Matrix, solve, Eq\n",
    "\n",
    "# Bước 1: Import các module cần thiết\n",
    "from sympy.abc import x, y\n",
    "\n",
    "# Bước 2: Định nghĩa biến và hằng số\n",
    "a, b, r = symbols(\"a b r\")\n",
    "\n",
    "# Bước 3: Định nghĩa phương trình đường tròn\n",
    "circle_equation = Eq((x - a) ** 2 + (y - b) ** 2, r**2)\n",
    "\n",
    "# Bước 4: Chuyển đổi phương trình đường tròn thành dạng ma trận\n",
    "# Ma trận bao gồm các cột là x^2, xy, y^2, x, y, 1\n",
    "# Từ các cột này, chúng ta có thể giải ra các hằng số a, b, c, d, e, f\n",
    "# trong phương trình tổng quát của ellipse\n",
    "A = Matrix(\n",
    "    [\n",
    "        [x**2, x * y, y**2, x, y, 1],\n",
    "        [\n",
    "            (x - a) ** 2,\n",
    "            (x - a) * (y - b),\n",
    "            (y - b) ** 2,\n",
    "            x - a,\n",
    "            y - b,\n",
    "            r**2 - a**2 - b**2,\n",
    "        ],\n",
    "    ]\n",
    ")\n",
    "\n",
    "# Bước 5: Giải phương trình để tìm các hằng số a, b, c, d, e, f\n",
    "coefficients = solve(A.det(), (a, b))\n",
    "\n",
    "# In ra các hằng số của đường tròn\n",
    "print(\"Các hằng số của đường tròn:\")\n",
    "for key, value in coefficients.items():\n",
    "    print(f\"{key}: {value}\")"
   ]
  },
  {
   "cell_type": "code",
   "execution_count": 13,
   "metadata": {},
   "outputs": [
    {
     "name": "stdout",
     "output_type": "stream",
     "text": [
      "Eigenvalues: [ 5.37228132 -0.37228132]\n"
     ]
    }
   ],
   "source": [
    "import numpy as np\n",
    "\n",
    "\n",
    "def qr_algorithm(matrix, num_iterations=100):\n",
    "    n = len(matrix)\n",
    "    eigenvalues = np.zeros(n, dtype=float)\n",
    "\n",
    "    # Iterate to find eigenvalues\n",
    "    for _ in range(num_iterations):\n",
    "        # QR decomposition\n",
    "        q, r = np.linalg.qr(matrix)\n",
    "\n",
    "        # Update matrix\n",
    "        matrix = np.dot(r, q)\n",
    "\n",
    "    # Extract eigenvalues from the diagonal of the resulting matrix\n",
    "    for i in range(n):\n",
    "        eigenvalues[i] = matrix[i][i]\n",
    "    return eigenvalues\n",
    "\n",
    "\n",
    "# Define your matrix\n",
    "matrix = np.array([[1, 2], [3, 4]])\n",
    "\n",
    "# Find all eigenvalues using QR algorithm\n",
    "eigenvalues = qr_algorithm(matrix)\n",
    "\n",
    "print(\"Eigenvalues:\", eigenvalues)"
   ]
  },
  {
   "cell_type": "code",
   "execution_count": 1,
   "metadata": {},
   "outputs": [
    {
     "name": "stdout",
     "output_type": "stream",
     "text": [
      "Ma trận P:\n",
      "Matrix([[1, -3*sqrt(33)/22 - 1/2, -1/2 + 3*sqrt(33)/22], [-2, 1/4 - 3*sqrt(33)/44, 1/4 + 3*sqrt(33)/44], [1, 1, 1]])\n",
      "\n",
      "Ma trận D:\n",
      "Matrix([[0, 0, 0], [0, 15/2 - 3*sqrt(33)/2, 0], [0, 0, 15/2 + 3*sqrt(33)/2]])\n"
     ]
    }
   ],
   "source": [
    "import sympy as sp\n",
    "\n",
    "# Khởi tạo ma trận\n",
    "A = sp.Matrix([[1, 2, 3],\n",
    "               [4, 5, 6],\n",
    "               [7, 8, 9]])\n",
    "\n",
    "# Chéo hóa ma trận\n",
    "P, D = A.diagonalize()\n",
    "\n",
    "# In kết quả\n",
    "print(\"Ma trận P:\")\n",
    "print(P)\n",
    "print(\"\\nMa trận D:\")\n",
    "print(D)\n"
   ]
  },
  {
   "cell_type": "code",
   "execution_count": null,
   "metadata": {},
   "outputs": [],
   "source": []
  }
 ],
 "metadata": {
  "kernelspec": {
   "display_name": "Python 3",
   "language": "python",
   "name": "python3"
  },
  "language_info": {
   "codemirror_mode": {
    "name": "ipython",
    "version": 3
   },
   "file_extension": ".py",
   "mimetype": "text/x-python",
   "name": "python",
   "nbconvert_exporter": "python",
   "pygments_lexer": "ipython3",
   "version": "3.11.5"
  }
 },
 "nbformat": 4,
 "nbformat_minor": 2
}
