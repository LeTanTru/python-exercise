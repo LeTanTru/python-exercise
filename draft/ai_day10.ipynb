{
 "cells": [
  {
   "cell_type": "code",
   "execution_count": 11,
   "metadata": {},
   "outputs": [],
   "source": [
    "class Problem:\n",
    "    def __init__(self):\n",
    "        self.goal = None\n",
    "\n",
    "    def get_state(self):\n",
    "        pass\n",
    "\n",
    "    def get_pos_actions(self):\n",
    "        pass\n",
    "\n",
    "    def action(self, actions):\n",
    "        pass\n",
    "\n",
    "    def cost(self, action):\n",
    "        pass"
   ]
  },
  {
   "cell_type": "code",
   "execution_count": 12,
   "metadata": {},
   "outputs": [],
   "source": [
    "class Any:\n",
    "    def __init__(self, *vals):\n",
    "        self.vals = vals\n",
    "\n",
    "    def __eq__(self, other):\n",
    "        if len(self.vals) == 0 or other in self.vals:\n",
    "            return True\n",
    "        return False"
   ]
  },
  {
   "cell_type": "code",
   "execution_count": 13,
   "metadata": {},
   "outputs": [
    {
     "data": {
      "text/plain": [
       "True"
      ]
     },
     "execution_count": 13,
     "metadata": {},
     "output_type": "execute_result"
    }
   ],
   "source": [
    "room = Any(\"A\", \"B\")\n",
    "room == \"A\""
   ]
  },
  {
   "cell_type": "code",
   "execution_count": 14,
   "metadata": {},
   "outputs": [],
   "source": [
    "import random\n",
    "\n",
    "\n",
    "class Mal_cleaner(Problem):\n",
    "    def __init__(self):\n",
    "        Problem.__init__(self)\n",
    "        self.rooms = [\"Dirty\"] * 2\n",
    "        self.loc = \"A\"\n",
    "        self.goal = (Any(\"A\", \"B\"), \"Clean\", \"Clean\")\n",
    "\n",
    "    def get_state(self):\n",
    "        return (self.loc, *self.rooms)\n",
    "\n",
    "    def get_pos_actions(self):\n",
    "        if self.loc == \"B\":\n",
    "            yield \"Left\"\n",
    "        if self.loc == \"A\":\n",
    "            yield \"Right\"\n",
    "        yield \"Suck\"\n",
    "\n",
    "    def action(self, actions):\n",
    "        for action in actions:\n",
    "            if action not in self.get_pos_actions():\n",
    "                continue\n",
    "            if action == \"Left\":\n",
    "                self.loc = \"A\"\n",
    "            elif action == \"Right\":\n",
    "                self.loc = \"B\"\n",
    "            elif action == \"Suck\":\n",
    "                room_ind = ord(self.loc) - 65\n",
    "                if self.rooms[room_ind] == \"Dirty\":\n",
    "                    if random.randint(0, 1):\n",
    "                        self.rooms = [\"Clean\"] * 2\n",
    "                    else:\n",
    "                        self.rooms[room_ind] = \"Clean\"\n",
    "                elif random.randint(0, 1):\n",
    "                    self.rooms[room_ind] = \"Dirty\"\n",
    "\n",
    "    def cost(self, action):\n",
    "        return 1\n",
    "\n",
    "    def shuffle(self):\n",
    "        room_A = random.choice([\"Clean\", \"Dirty\"])\n",
    "        if room_A == \"Dirty\":\n",
    "            room_B = random.choice([\"Clean\", \"Dirty\"])\n",
    "        else:\n",
    "            room_B = \"Dirty\"\n",
    "        self.rooms = [room_A, room_B]\n",
    "        self.loc = random.choice([\"A\", \"B\"])"
   ]
  },
  {
   "cell_type": "code",
   "execution_count": 15,
   "metadata": {},
   "outputs": [],
   "source": [
    "from typing import Type\n",
    "\n",
    "\n",
    "class Problem_solver:\n",
    "    def __init__(self):\n",
    "        pass\n",
    "\n",
    "    def train(self, problem: Type[Problem]):\n",
    "        pass\n",
    "\n",
    "    def solve(self):\n",
    "        pass"
   ]
  },
  {
   "cell_type": "code",
   "execution_count": 16,
   "metadata": {},
   "outputs": [],
   "source": [
    "class And_or_search(Problem_solver):\n",
    "    def __init__(self):\n",
    "        Problem_solver.__init__(self)\n",
    "\n",
    "    # states_func: Return belief state (a set of possible states)\n",
    "    def train(self, problem: Type[Problem], states_func, pos_actions_func):\n",
    "        Problem_solver.train(self, problem)\n",
    "        self.problem = problem\n",
    "        self.states_func = states_func\n",
    "        self.pos_actions_func = pos_actions_func\n",
    "\n",
    "    def solve(self):\n",
    "        rules = self.__search()\n",
    "        return rules\n",
    "\n",
    "    def __search(self):\n",
    "        return self.__or_search(self.problem.get_state(), [])\n",
    "\n",
    "    def __or_search(self, state, path):\n",
    "        if state == self.problem.goal:\n",
    "            return []\n",
    "        if self.__is_cycle(path):\n",
    "            return None\n",
    "        for action in self.pos_actions_func(state):\n",
    "            plan = self.__and_search(\n",
    "                list(self.states_func(state, action)), [state, *path]\n",
    "            )\n",
    "            if plan is not None:\n",
    "                return [action, *plan]\n",
    "        return None\n",
    "\n",
    "    def __and_search(self, states, path):\n",
    "        plans = [None] * len(states)\n",
    "        for i, state in enumerate(states):\n",
    "            t = self.__or_search(state, path)\n",
    "            if t is None:\n",
    "                return None\n",
    "            plans[i] = {\"state\": state, \"action\": t}\n",
    "        return plans\n",
    "\n",
    "    def __is_cycle(self, path):\n",
    "        return len(set(path)) != len(path)"
   ]
  },
  {
   "cell_type": "code",
   "execution_count": 17,
   "metadata": {},
   "outputs": [],
   "source": [
    "def get_pos_actions(state):\n",
    "    if state[0] == \"B\":\n",
    "        yield \"Left\"\n",
    "    if state[0] == \"A\":\n",
    "        yield \"Right\"\n",
    "    yield \"Suck\""
   ]
  },
  {
   "cell_type": "code",
   "execution_count": 18,
   "metadata": {},
   "outputs": [],
   "source": [
    "def get_states(state, action):\n",
    "    loc, rooms = state[0], [state[1], state[2]]\n",
    "    if action == \"Left\":\n",
    "        yield (\"A\", rooms[0], rooms[1])\n",
    "    elif action == \"Right\":\n",
    "        yield (\"B\", rooms[0], rooms[1])\n",
    "    elif action == \"Suck\":\n",
    "        room_ind = ord(loc) - 65\n",
    "        if rooms[room_ind] == \"Dirty\":\n",
    "            yield (loc, \"Clean\", \"Clean\")\n",
    "            rooms[room_ind] = \"Clean\"\n",
    "            yield (loc, *rooms)\n",
    "        else:\n",
    "            yield state\n",
    "            rooms[room_ind] = \"Dirty\"\n",
    "            yield (loc, *rooms)"
   ]
  },
  {
   "cell_type": "code",
   "execution_count": 19,
   "metadata": {},
   "outputs": [
    {
     "data": {
      "text/plain": [
       "('A', 'Dirty', 'Dirty')"
      ]
     },
     "execution_count": 19,
     "metadata": {},
     "output_type": "execute_result"
    }
   ],
   "source": [
    "mal_cleaner = Mal_cleaner()\n",
    "mal_cleaner.get_state()"
   ]
  },
  {
   "cell_type": "code",
   "execution_count": 20,
   "metadata": {},
   "outputs": [],
   "source": [
    "solver = And_or_search()\n",
    "solver.train(mal_cleaner, get_states, get_pos_actions)\n",
    "plan = solver.solve()"
   ]
  },
  {
   "cell_type": "code",
   "execution_count": 23,
   "metadata": {},
   "outputs": [
    {
     "data": {
      "text/plain": [
       "['Right',\n",
       " {'state': ('B', 'Dirty', 'Dirty'),\n",
       "  'action': ['Suck',\n",
       "   {'state': ('B', 'Clean', 'Clean'), 'action': []},\n",
       "   {'state': ('B', 'Dirty', 'Clean'),\n",
       "    'action': ['Left',\n",
       "     {'state': ('A', 'Dirty', 'Clean'),\n",
       "      'action': ['Suck',\n",
       "       {'state': ('A', 'Clean', 'Clean'), 'action': []},\n",
       "       {'state': ('A', 'Clean', 'Clean'), 'action': []}]}]}]}]"
      ]
     },
     "execution_count": 23,
     "metadata": {},
     "output_type": "execute_result"
    }
   ],
   "source": [
    "plan"
   ]
  },
  {
   "cell_type": "code",
   "execution_count": null,
   "metadata": {},
   "outputs": [],
   "source": [
    "[\n",
    "    \"Right\",\n",
    "    {\n",
    "        \"state\": (\"B\", \"Dirty\", \"Dirty\"),\n",
    "        \"action\": [\n",
    "            \"Suck\",\n",
    "            {\"state\": (\"B\", \"Clean\", \"Clean\"), \"action\": []},\n",
    "            {\n",
    "                \"state\": (\"B\", \"Dirty\", \"Clean\"),\n",
    "                \"action\": [\n",
    "                    \"Left\",\n",
    "                    {\n",
    "                        \"state\": (\"A\", \"Dirty\", \"Clean\"),\n",
    "                        \"action\": [\n",
    "                            \"Suck\",\n",
    "                            {\"state\": (\"A\", \"Clean\", \"Clean\"), \"action\": []},\n",
    "                            {\"state\": (\"A\", \"Clean\", \"Clean\"), \"action\": []},\n",
    "                        ],\n",
    "                    },\n",
    "                ],\n",
    "            },\n",
    "        ],\n",
    "    },\n",
    "]"
   ]
  },
  {
   "cell_type": "code",
   "execution_count": 46,
   "metadata": {},
   "outputs": [
    {
     "name": "stdout",
     "output_type": "stream",
     "text": [
      "[\n",
      "\"Right\"\n",
      "{\n",
      "    \"state\": ('B', 'Dirty', 'Dirty')\n",
      "[\n",
      "    \"Suck\"\n",
      "    {\n",
      "        \"state\": ('B', 'Clean', 'Clean')\n",
      "[\n",
      "    ]    }\n",
      "    {\n",
      "        \"state\": ('B', 'Dirty', 'Clean')\n",
      "[\n",
      "        \"Left\"\n",
      "        {\n",
      "            \"state\": ('A', 'Dirty', 'Clean')\n",
      "[\n",
      "            \"Suck\"\n",
      "            {\n",
      "                \"state\": ('A', 'Clean', 'Clean')\n",
      "[\n",
      "            ]            }\n",
      "            {\n",
      "                \"state\": ('A', 'Clean', 'Clean')\n",
      "[\n",
      "            ]            }\n",
      "        ]        }\n",
      "    ]    }\n",
      "]}\n",
      "]"
     ]
    }
   ],
   "source": [
    "def get_readable_plan(plan, indent=0):\n",
    "    readable_instructions = (\n",
    "        []\n",
    "    )  # Khởi tạo một danh sách để lưu trữ các hướng dẫn có thể đọc được\n",
    "    for action in plan:  # Lặp qua từng hành động trong kế hoạch\n",
    "        if isinstance(action, str):  # Kiểm tra nếu hành động là một lệnh trực tiếp\n",
    "            # Thêm hành động trực tiếp với định dạng lùi phù hợp vào danh sách các hướng dẫn có thể đọc được\n",
    "            readable_instructions.append(\"    \" * indent + \"Do \" + action)\n",
    "        # Kiểm tra nếu hành động là một hành động phức tạp có điều kiện có thể\n",
    "        if isinstance(action, dict):\n",
    "            state = action.get(\"state\")  # Lấy trạng thái được liên kết với hành động\n",
    "            # Lấy các hành động lồng nhau liên kết với hành động\n",
    "            nested_actions = action.get(\"action\")\n",
    "            # Kiểm tra nếu trạng thái khớp với điều kiện cụ thể\n",
    "            if state == (\n",
    "                \"B\",\n",
    "                \"Dirty\",\n",
    "                \"Clean\",\n",
    "            ):\n",
    "                # Thêm điều kiện với định dạng lùi phù hợp vào danh sách các hướng dẫn có thể đọc được\n",
    "                readable_instructions.append(\n",
    "                    \"    \" * indent + \"if state == {}: \".format(str(state))\n",
    "                )\n",
    "                for nested_action in nested_actions:  # Lặp qua từng hành động lồng nhau\n",
    "                    # Kiểm tra nếu hành động lồng nhau là một lệnh trực tiếp\n",
    "                    if isinstance(nested_action, str):\n",
    "                        # Thêm hành động lồng nhau trực tiếp với định dạng lùi phù hợp vào danh sách các hướng dẫn có thể đọc được\n",
    "                        readable_instructions.append(\n",
    "                            \"    \" * (indent + 1) + \"Do \" + nested_action\n",
    "                        )\n",
    "                    # Kiểm tra nếu hành động lồng nhau là một hành động phức tạp\n",
    "                    elif isinstance(nested_action, dict):\n",
    "                        # Gọi đệ quy hàm để xử lý các hành động lồng nhau với sự tăng định dạng lùi\n",
    "                        readable_instructions.extend(\n",
    "                            get_readable_plan([nested_action], indent + 1)\n",
    "                        )\n",
    "            else:\n",
    "                # Gọi đệ quy hàm để xử lý các trạng thái không khớp với cùng một mức định dạng lùi\n",
    "                readable_instructions.extend(get_readable_plan(nested_actions, indent))\n",
    "    return readable_instructions"
   ]
  },
  {
   "cell_type": "code",
   "execution_count": 45,
   "metadata": {},
   "outputs": [
    {
     "name": "stdout",
     "output_type": "stream",
     "text": [
      "Do Right\n",
      "Do Suck\n",
      "if state == ('B', 'Dirty', 'Clean'): \n",
      "    Do Left\n",
      "    Do Suck\n"
     ]
    }
   ],
   "source": [
    "print(\"\\n\".join(get_readable_plan(plan)))"
   ]
  },
  {
   "cell_type": "code",
   "execution_count": null,
   "metadata": {},
   "outputs": [],
   "source": []
  }
 ],
 "metadata": {
  "kernelspec": {
   "display_name": "Python 3",
   "language": "python",
   "name": "python3"
  },
  "language_info": {
   "codemirror_mode": {
    "name": "ipython",
    "version": 3
   },
   "file_extension": ".py",
   "mimetype": "text/x-python",
   "name": "python",
   "nbconvert_exporter": "python",
   "pygments_lexer": "ipython3",
   "version": "3.11.5"
  }
 },
 "nbformat": 4,
 "nbformat_minor": 2
}
