{
 "cells": [
  {
   "cell_type": "code",
   "execution_count": 2,
   "metadata": {},
   "outputs": [],
   "source": [
    "import numpy as np"
   ]
  },
  {
   "cell_type": "code",
   "execution_count": 3,
   "metadata": {},
   "outputs": [],
   "source": [
    "P = np.array([[0.6, 0.1, 0.1, 0.1, 0.1],\n",
    "              [0.1, 0.5, 0.2, 0.1, 0.1],\n",
    "              [0.1, 0.25, 0.4, 0.15, 0.1], \n",
    "              [0.1, 0.1, 0.2, 0.5, 0.1], \n",
    "              [0.1, 0.1, 0.15, 0.05, 0.6]])"
   ]
  },
  {
   "cell_type": "code",
   "execution_count": 4,
   "metadata": {},
   "outputs": [],
   "source": [
    "state = [\"Nắng\", \"Mưa\", \"Có mây\", \"Sương mù\", \"Gió\"]"
   ]
  },
  {
   "cell_type": "code",
   "execution_count": 5,
   "metadata": {},
   "outputs": [
    {
     "data": {
      "text/plain": [
       "'Có mây'"
      ]
     },
     "execution_count": 5,
     "metadata": {},
     "output_type": "execute_result"
    }
   ],
   "source": [
    "import random\n",
    "init_state = random.choice(state)\n",
    "init_state"
   ]
  },
  {
   "cell_type": "code",
   "execution_count": 6,
   "metadata": {},
   "outputs": [
    {
     "data": {
      "text/plain": [
       "array([0.1 , 0.25, 0.4 , 0.15, 0.1 ])"
      ]
     },
     "execution_count": 6,
     "metadata": {},
     "output_type": "execute_result"
    }
   ],
   "source": [
    "curr_distribution = P[state.index(init_state)]\n",
    "curr_distribution"
   ]
  },
  {
   "cell_type": "code",
   "execution_count": 7,
   "metadata": {},
   "outputs": [
    {
     "data": {
      "text/plain": [
       "'Có mây'"
      ]
     },
     "execution_count": 7,
     "metadata": {},
     "output_type": "execute_result"
    }
   ],
   "source": [
    "predict_state = np.random.choice(state, p=curr_distribution)\n",
    "predict_state"
   ]
  },
  {
   "cell_type": "code",
   "execution_count": 8,
   "metadata": {},
   "outputs": [
    {
     "name": "stdout",
     "output_type": "stream",
     "text": [
      "Day 1: Mưa\n",
      "Day 2: Mưa\n",
      "Day 3: Nắng\n",
      "Day 4: Nắng\n",
      "Day 5: Nắng\n",
      "Day 6: Gió\n",
      "Day 7: Gió\n",
      "Day 8: Gió\n",
      "Day 9: Gió\n",
      "Day 10: Gió\n",
      "Day 11: Nắng\n",
      "Day 12: Nắng\n",
      "Day 13: Gió\n",
      "Day 14: Gió\n",
      "Day 15: Gió\n",
      "Day 16: Gió\n",
      "Day 17: Gió\n",
      "Day 18: Gió\n",
      "Day 19: Gió\n",
      "Day 20: Có mây\n"
     ]
    }
   ],
   "source": [
    "for i in range(1, 21):\n",
    "    curr_distribution = P[state.index(predict_state)]\n",
    "    predict_state = np.random.choice(state, p=curr_distribution)\n",
    "    print(f\"Day {i}: {predict_state}\")"
   ]
  },
  {
   "cell_type": "code",
   "execution_count": null,
   "metadata": {},
   "outputs": [],
   "source": []
  }
 ],
 "metadata": {
  "kernelspec": {
   "display_name": "Python 3",
   "language": "python",
   "name": "python3"
  },
  "language_info": {
   "codemirror_mode": {
    "name": "ipython",
    "version": 3
   },
   "file_extension": ".py",
   "mimetype": "text/x-python",
   "name": "python",
   "nbconvert_exporter": "python",
   "pygments_lexer": "ipython3",
   "version": "3.11.5"
  }
 },
 "nbformat": 4,
 "nbformat_minor": 2
}
