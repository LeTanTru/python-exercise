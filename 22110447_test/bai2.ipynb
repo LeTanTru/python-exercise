{
 "cells": [
  {
   "cell_type": "code",
   "execution_count": 157,
   "metadata": {},
   "outputs": [],
   "source": [
    "dia_chi = [\"Dần\", \"Mão\", \"Thìn\", \"Tỵ\", \"Ngọ\", \"Mùi\", \"Thân\", \"Dậu\", \"Tuất\", \"Hợi\", \"Tý\", \"Sửu\"]\n",
    "thang_am_lich = [[],\n",
    "                [\"Bính Dần\", \"Mậu Dần\", \"Canh Dần\", \"Nhâm Dần\", \"Giáp Dần\"],\n",
    "                 [\"Đinh Mão\", \"Kỷ Mão\", \"Tân Mão\", \"Quý Mão\", \"Ất Mão\"],\n",
    "                 [\"Mậu Thìn\", \"Canh Thìn\", \"Nhâm Thìn\", \"Giáp Thìn\", \"Bính Thìn\"],\n",
    "                 [\"Kỷ Tị\", \"Tân Tị\", \"Quý Tị\", \"Ất Tị\", \"Đinh Tị\"],\n",
    "                 [\"Canh Ngọ\", \"Nhâm Ngọ\", \"Giáp Ngọ\", \"Bính Ngọ\", \"Mậu Ngọ\"],\n",
    "                 [\"Tân Mùi\", \"Quý Mùi\", \"Ất Mùi\", \"Đinh Mùi\", \"Kỷ Mùi\"],\n",
    "                 [\"Nhâm Thân\", \"Giáp Thân\", \"Bính Thân\", \"Mậu Thân\", \"Canh Thân\",],\n",
    "                 [\"Quý Dậu\", \"Ất Dậu\", \"Đinh Dậu\", \"Kỷ Dậu\", \"Tân Dậu\",],\n",
    "                 [\"Giáp Tuất\", \"Bính Tuất\", \"Mậu Tuất\", \"Canh Tuất\", \"Nhâm Tuất\",],\n",
    "                 [\"Ất Hợi\", \"Đinh Hợi\", \"Kỷ Hợi\", \"Tân Hợi\", \"Quý Hợi\",],\n",
    "                 [\"Bính Tý\", \"Mậu Tý\", \"Canh Tý\", \"Nhâm Tý\", \"Giáp Tý\",],\n",
    "                 [\"Đinh Sửu\", \"Kỷ Sửu\", \"Tân Sửu\", \"Quý Sửu\", \"Ất Sửu\",]]\n",
    "chi_so_can = [[\"Giáp/Kỷ\"], [\"Ất/Canh\"], [\"Bính/Tân\"], [\"Đinh/Nhâm\"], [\"Mậu/Quý\"]]"
   ]
  },
  {
   "cell_type": "code",
   "execution_count": 158,
   "metadata": {},
   "outputs": [],
   "source": [
    "thang = 1\n",
    "nam = 2024"
   ]
  },
  {
   "cell_type": "code",
   "execution_count": 159,
   "metadata": {},
   "outputs": [],
   "source": [
    "can = ['Canh', 'Tân', 'Nhâm', 'Quý', 'Giáp', 'Ất', 'Bính', 'Đinh','Mậu','Kỷ']\n",
    "chi = ['Thân', 'Dậu', 'Tuất', 'Hợi','Tí','Sửu','Dần', 'Mão', 'Thìn', 'Tị', 'Ngọ', \"Mùi\"]\n",
    "def tinh_thien_can(nam):\n",
    "    vitri_can = nam % 10\n",
    "    return can[vitri_can]"
   ]
  },
  {
   "cell_type": "code",
   "execution_count": 160,
   "metadata": {},
   "outputs": [
    {
     "data": {
      "text/plain": [
       "'Giáp'"
      ]
     },
     "execution_count": 160,
     "metadata": {},
     "output_type": "execute_result"
    }
   ],
   "source": [
    "can = tinh_thien_can(nam)\n",
    "can"
   ]
  },
  {
   "cell_type": "code",
   "execution_count": 161,
   "metadata": {},
   "outputs": [
    {
     "name": "stdout",
     "output_type": "stream",
     "text": [
      "Tháng 1 năm 2024 (tháng 12 âm lịch) là tháng Đinh Sửu\n"
     ]
    }
   ],
   "source": [
    "def lay_chi_so_can(can):\n",
    "    for i in chi_so_can:\n",
    "        if can in i[0]:\n",
    "            return i\n",
    "    return None\n",
    "\n",
    "def lui_thang(thang, nam):\n",
    "    if thang == 1:\n",
    "        return 12, nam\n",
    "    return thang - 1, nam\n",
    "\n",
    "thang_al, nam = lui_thang(thang, nam)\n",
    "print(f\"Tháng {thang} năm {nam} (tháng {thang_al} âm lịch) là tháng {thang_am_lich[thang_al][can.index(can)]}\")"
   ]
  },
  {
   "cell_type": "code",
   "execution_count": null,
   "metadata": {},
   "outputs": [],
   "source": []
  }
 ],
 "metadata": {
  "kernelspec": {
   "display_name": "Python 3",
   "language": "python",
   "name": "python3"
  },
  "language_info": {
   "codemirror_mode": {
    "name": "ipython",
    "version": 3
   },
   "file_extension": ".py",
   "mimetype": "text/x-python",
   "name": "python",
   "nbconvert_exporter": "python",
   "pygments_lexer": "ipython3",
   "version": "3.11.5"
  }
 },
 "nbformat": 4,
 "nbformat_minor": 2
}
